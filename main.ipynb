{
 "cells": [
  {
   "cell_type": "markdown",
   "metadata": {},
   "source": [
    "Yay! Let's get started!\n",
    "\n",
    "### Design decisions?\n",
    "- Punctuation looks like it's important, so I think we should keep it? like `!!!!` could actually be indicative of something, as might `???`. Periods, maybe not so much, so I think I'm gonna remove those, commas too\n",
    "- It might be better to split up contractions, so I thought that could be n i c e\n",
    "- iffy on stemming and lemmatization. Vader doesn't like it, but we can try it?\n",
    "    - lemmatization: spacy\n",
    "- or, try two versions, one with and the other without, see which one performs better\n",
    "- right, so googles pretrained word2vec exists? to use or not to use, and how?\n"
   ]
  },
  {
   "cell_type": "code",
   "execution_count": 1,
   "metadata": {},
   "outputs": [],
   "source": [
    "# All our imports\n",
    "import json\n",
    "import nltk\n",
    "import spacy\n",
    "import re\n",
    "from nltk import word_tokenize\n",
    "from nltk import sent_tokenize\n",
    "from sklearn.feature_extraction.text import CountVectorizer\n",
    "from sklearn.feature_extraction.text import TfidfVectorizer"
   ]
  },
  {
   "cell_type": "code",
   "execution_count": 2,
   "metadata": {},
   "outputs": [],
   "source": [
    "# constants should we want that\n",
    "\n",
    "contractions = {\n",
    "    \"isn't\": \"is not\",\n",
    "    \"aren't\": \"are not\",\n",
    "    \"hadn't\": \"had not\",\n",
    "    \"hasn't\": \"has not\",\n",
    "    \"haven't\": \"have not\",\n",
    "    \"you've\": \"you have\",\n",
    "    \"you're\": \"you are\",\n",
    "    \"y'all\": \"you all\",\n",
    "    \"won't\": \"will not\",\n",
    "    \"wouldn't\": \"would not\",\n",
    "    \"I've\": \"I have\",\n",
    "    \"I'm\": \"I am\",\n",
    "    \"I'll\": \"I will\",\n",
    "    \"don't\": \"do not\",\n",
    "    \"doesn't\": \"does not\",\n",
    "    \"didn't\": \"did not\",\n",
    "    \"couldn't\": \"could not\",\n",
    "    \"can't\": \"cannot\",\n",
    "    \"it's\": \"it is\",\n",
    "}"
   ]
  },
  {
   "cell_type": "code",
   "execution_count": 3,
   "metadata": {},
   "outputs": [],
   "source": [
    "# a bit of set up\n",
    "lemmatization_model = spacy.load('en_core_web_sm')"
   ]
  },
  {
   "cell_type": "markdown",
   "metadata": {},
   "source": [
    "# Data Prep"
   ]
  },
  {
   "cell_type": "markdown",
   "metadata": {},
   "source": [
    "### Tokenizing and Normalizing"
   ]
  },
  {
   "cell_type": "code",
   "execution_count": 4,
   "metadata": {},
   "outputs": [],
   "source": [
    "# making a class with review_id, review_body, stars, product id and category\n",
    "class parsedEntry:\n",
    "    def __init__(self, review_id, text, stars, product_id, product_category):\n",
    "        self.review_id = review_id\n",
    "        self.text = text\n",
    "        self.stars = stars\n",
    "        self.product_id = product_id\n",
    "        self.product_category = product_category\n",
    "\n",
    "    def printAll(self):\n",
    "        print(self.review_id)\n",
    "        print(\"\\t TEXT: \" + str(self.text))\n",
    "        print(\"\\t STARS: \" + str(self.stars))\n",
    "        print()"
   ]
  },
  {
   "cell_type": "code",
   "execution_count": 5,
   "metadata": {},
   "outputs": [],
   "source": [
    "# making a list of parsedEntries\n",
    "def makeListEntries(fileName):\n",
    "    \n",
    "    listEntries = []\n",
    "\n",
    "    for line in open(fileName, 'r'):\n",
    "        entry = json.loads(line)\n",
    "\n",
    "        # GETTING THE PERTINENT BITS #\n",
    "        review_id = entry['review_id']\n",
    "        text = entry['review_body']\n",
    "        stars = entry['stars']\n",
    "        product_id = entry['product_id']\n",
    "        product_category = entry['product_category']\n",
    "\n",
    "        # DEAL WITH THE TEXT PORTION\n",
    "        text = text.lower()\n",
    "        listOfChars = []\n",
    "\n",
    "        # don't see the point in commas\n",
    "        for i, char in enumerate(text):\n",
    "            if char != ',':\n",
    "                listOfChars.append(char)\n",
    "\n",
    "        nonPunct = \"\".join(listOfChars)\n",
    "\n",
    "        # breaking up some contractions: globally replace key with value pair\n",
    "        nonCont = nonPunct\n",
    "        for key in contractions:\n",
    "            nonCont = re.sub(key, contractions[key], nonCont)\n",
    "\n",
    "        # getting rid of duplicate whitespace\n",
    "        nonCont = re.sub(\" +\", \" \", nonCont) \n",
    "        sentences = sent_tokenize(nonCont)\n",
    "\n",
    "        tokenized_sentences = []\n",
    "        for sentence in sentences:\n",
    "            # makes a list type dealio\n",
    "            tokens = lemmatization_model(sentence)\n",
    "\n",
    "           # list just for this sentence\n",
    "            sentenceList = []\n",
    "\n",
    "            for token in tokens:\n",
    "                sentenceList.append(token.lemma_)\n",
    "\n",
    "            # no periods here\n",
    "            if (sentenceList[-1] == \".\"):\n",
    "                sentenceList.pop()\n",
    "\n",
    "            # add sentenceList to total sentences\n",
    "            tokenized_sentences.append(sentenceList)\n",
    "\n",
    "        newEntry = parsedEntry(review_id, tokenized_sentences, stars, product_id, product_category)\n",
    "\n",
    "        listEntries.append(newEntry)\n",
    "    return listEntries\n",
    "    "
   ]
  },
  {
   "cell_type": "code",
   "execution_count": 6,
   "metadata": {},
   "outputs": [],
   "source": [
    "trainSet = makeListEntries(\"dataset/smol_train.json\")\n",
    "testSet = makeListEntries(\"dataset/smol_test.json\")"
   ]
  },
  {
   "cell_type": "code",
   "execution_count": 7,
   "metadata": {},
   "outputs": [
    {
     "name": "stdout",
     "output_type": "stream",
     "text": [
      "en_0964290\n",
      "\t TEXT: [['arrive', 'broken'], ['manufacturer', 'defect'], ['two', 'of', 'the', 'leg', 'of', 'the', 'base', 'be', 'not', 'completely', 'form', 'so', 'there', 'be', 'no', 'way', 'to', 'insert', 'the', 'caster'], ['I', 'unpackage', 'the', 'entire', 'chair', 'and', 'hardware', 'before', 'notice', 'this'], ['so', 'I', \"'ll\", 'spend', 'twice', 'the', 'amount', 'of', 'time', 'box', 'up', 'the', 'whole', 'useless', 'thing', 'and', 'send', 'it', 'back', 'with', 'a', '1', '-', 'star', 'review', 'of', 'part', 'of', 'a', 'chair', 'I', 'never', 'get', 'to', 'sit', 'in'], ['I', 'will', 'go', 'so', 'far', 'as', 'to', 'include', 'a', 'picture', 'of', 'what', 'their', 'injection', 'molding', 'and', 'quality', 'assurance', 'process', 'miss', 'though'], ['I', 'will', 'be', 'hesitant', 'to', 'buy', 'again'], ['it', 'make', 'I', 'wonder', 'if', 'there', 'be', 'not', 'miss', 'structure', 'and', 'support', 'that', 'do', 'not', 'impede', 'the', 'assembly', 'process']]\n",
      "\t STARS: 1\n",
      "\n",
      "en_0199937\n",
      "\t TEXT: [['these', 'be', 'awful'], ['they', 'be', 'see', 'through', 'the', 'fabric', 'feel', 'like', 'tablecloth', 'and', 'they', 'fit', 'like', 'child', '’s', 'clothing'], ['customer', 'service', 'do', 'seem', 'to', 'be', 'nice', 'though', 'but', 'I', 'regret', 'miss', 'my', 'return', 'date', 'for', 'these'], ['I', 'would', 'n’t', 'even', 'donate', 'they', 'because', 'the', 'quality', 'be', 'so', 'poor']]\n",
      "\t STARS: 1\n",
      "\n",
      "en_0690095\n",
      "\t TEXT: [['the', 'cabinet', 'dot', 'be', 'all', 'detach', 'from', 'back', '...', 'get', 'I']]\n",
      "\t STARS: 1\n",
      "\n",
      "en_0863335\n",
      "\t TEXT: [['I', 'buy', '4', 'and', 'none', 'of', 'they', 'work'], ['yes', 'I', 'use', 'new', 'battery', '!']]\n",
      "\t STARS: 1\n",
      "\n",
      "en_0311558\n",
      "\t TEXT: [['I', 'receive', 'my', 'first', 'order', 'of', 'this', 'product', 'and', 'it', 'be', 'break', 'so', 'I', 'order', 'it', 'again'], ['the', 'second', 'one', 'be', 'break', 'in', 'more', 'place', 'than', 'the', 'first'], ['I', 'can', 'not', 'blame', 'the', 'shipping', 'process', 'as', 'it', 'be', 'shrink', 'wrap', 'and', 'box']]\n",
      "\t STARS: 1\n",
      "\n",
      "en_0565010\n",
      "\t TEXT: [['on', 'first', 'use', 'it', 'do', 'not', 'heat', 'up', 'and', 'now', 'it', 'do', 'not', 'work', 'at', 'all']]\n",
      "\t STARS: 1\n",
      "\n",
      "en_0044972\n",
      "\t TEXT: [['this', 'product', 'be', 'a', 'piece', 'of', 'shit'], ['do', 'not', 'buy'], ['do', 'not', 'work', 'and', 'then', 'I', 'try', 'to', 'call', 'for', 'customer', 'support', 'it', 'will', 'not', 'take', 'my', 'number'], ['fucking', 'rip', 'off', '!']]\n",
      "\t STARS: 1\n",
      "\n",
      "en_0963290\n",
      "\t TEXT: [['you', 'want', 'an', 'honest', 'answer', '?'], ['I', 'just', 'return', 'from', 'up', 'where', 'I', 'return', 'the', 'farce', 'of', 'an', 'earring', 'set', 'to', 'amazon'], ['it', 'do', 'not', 'look', 'like', 'what', 'I', 'see', 'on', 'amazon'], ['only', 'a', 'baby', 'would', 'be', 'able', 'to', 'wear', 'the', 'size', 'of', 'the', 'earring'], ['they', 'be', 'so', 'small'], ['the', 'size', 'of', 'a', 'pin', 'head', 'I', 'at', 'first', 'think', 'amazon', 'have', 'forget', 'to', 'enclose', 'they', 'in', 'the', 'bag', '!'], ['I', 'do', 'not', 'bother', 'to', 'take', 'they', 'out', 'of', 'the', 'bag', 'and', 'you', 'can', 'have', 'they', 'back'], ['will', 'never', 'order', 'another', 'thing', 'from', 'your', 'company'], ['a', 'disgrace'], ['honest', 'enough', 'for', 'you', '?'], ['grandma']]\n",
      "\t STARS: 1\n",
      "\n",
      "en_0784379\n",
      "\t TEXT: [['go', 'through', '3', 'in', 'one', 'day', 'do', 'not', 'fit', 'correct', 'and', 'could', 'not', 'get', 'bubble', 'out', '(', 'well', 'without', ')']]\n",
      "\t STARS: 1\n",
      "\n",
      "en_0238156\n",
      "\t TEXT: [['the', 'glue', 'work', 'fine', 'but', 'the', 'container', 'be', 'impossible', 'to', 'work', 'with'], ['the', 'cap', 'do', 'not', 'come', 'off', 'without', 'plyer', 'and', 'then', 'will', 'not', 'go', 'back', 'on', 'without', 'a', 'violent', 'abrupt', 'force', 'involve', 'both', 'hand', 'and', 'a', 'solid', 'object', '(', 'desk', 'drawer', ')'], ['this', 'happen', 'even', 'though', 'I', 'be', 'careful', 'to', 'not', 'gum', 'up', 'the', 'lid', 'or', 'taper', 'snout']]\n",
      "\t STARS: 1\n",
      "\n",
      "en_0420650\n",
      "\t TEXT: [['poor', 'quality'], ['the', 'material', 'be', 'fuzzy', 'from', 'day', 'one'], ['it', 'got', 'discolor', 'in', 'less', 'than', 'a', 'month', 'even', 'though', 'we', 'keep', 'it', 'outdoors', 'under', 'a', 'cover', 'porch'], ['I', 'return', 'this', 'item']]\n",
      "\t STARS: 1\n",
      "\n",
      "en_0728007\n",
      "\t TEXT: [['I', 'be', 'over', 'the', 'moon', 'when', 'I', 'get', 'this'], ['I', 'love', 'sunflower', 'and', 'it', 'look', 'exactly', 'like', 'they', 'advertise', 'unfortunately', 'I', 'wear', 'this', 'piercing', 'for', 'one', 'weekend'], ['by', 'sunday', 'night', 'the', 'sunflower', 'have', 'come', 'off'], ['I', 'will', 'not', 'be', 'purchase', 'from', 'this', 'company', 'again'], ['very', 'disappointed']]\n",
      "\t STARS: 1\n",
      "\n",
      "en_0206383\n",
      "\t TEXT: [['order', '2', 'they', 'ship', '1', 'promise', 'by', 'certain', 'day', 'then', 'the', 'next', 'day', 'then', 'the', 'next', 'day']]\n",
      "\t STARS: 1\n",
      "\n",
      "en_0363796\n",
      "\t TEXT: [['get', 'ta', 'say', 'not', 'impressed', 'with', 'the', 'quality'], ['I', 'mean', 'I', 'can', 'not', 'say', 'I', 'expect', 'it', 'to', 'be', 'overwhelmingly', 'amazing', 'with', 'the', 'cost', 'be', 'where', 'it', 'be', 'at'], ['but', 'certainly', 'I', 'think', 'it', 'would', 'last', 'long', 'than', 'a', 'few', 'day'], ['have', 'the', 'phone', 'in', 'my', 'gym', 'bag'], ['slide', 'out', 'from', 'the', 'side', 'and', 'barely', 'tap', 'the', 'wall'], ['on', 'the', 'aluminum', 'side'], ['not', 'even', 'on', 'the', 'glass'], ['and', 'low', 'and', 'behold', 'instantaneous', 'crack'], ['oddly', 'enough', 'just', 'on', 'the', 'back'], ['not', 'a', 'splinter', 'at', 'all', 'on', 'the', 'front'], ['not', 'sure', 'if', 'the', 'back', 'be', 'intentionally', 'more', 'susceptible', 'to', 'damage', 'or', 'just', 'my', 'luck'], ['either', 'way', 'I', 'have', 'to', 'give', 'this', 'product', 'a', 'thumb', 'down'], ['wish', 'it', 'hold', 'up', 'well'], ['it', 'really', 'be', 'a', 'nice', 'design'], ['I', 'be', 'a', 'fan', 'of', 'how', 'the', 'product', 'look', 'and', 'the', 'concept'], ['no', 'issue', 'there'], ['just', 'not', 'durable', 'at', 'all']]\n",
      "\t STARS: 1\n",
      "\n",
      "en_0638563\n",
      "\t TEXT: [['follow', 'direction', 'do', 'not', 'work', 'as', 'advertise']]\n",
      "\t STARS: 1\n",
      "\n",
      "en_0254608\n",
      "\t TEXT: [['I', 'would', 'give', 'this', 'zero', 'star', 'if', 'I', 'could'], ['this', 'be', '6.3', 'you', 'ounce', 'of', 'low', 'grade', 'chocolate', 'for', '$', '60'], ['my', '9', 'year', 'old', 'daughter', 'be', 'so', 'disappointed'], ['it', 'do', 'not', 'even', 'have', 'a', 'different', 'piece', 'for', 'each', 'day'], ['it', 'be', 'mostly', 'flat', 'square', 'wrap', 'milk', 'chocolate', 'with', 'no', 'design', 'at', 'all', '!', '!', '!'], ['very', 'very', 'poor', 'quality', 'and', 'expensive', '!']]\n",
      "\t STARS: 1\n",
      "\n",
      "en_0331944\n",
      "\t TEXT: [['there', 'be', 'a', 'terribly', 'do', 'band', 'across', 'the', 'top'], ['suppose', 'to', 'keep', 'the', 'shirt', 'on', 'your', 'shoulder', 'but', 'seem', 'more', 'of', 'like', 'a', 'waistband']]\n",
      "\t STARS: 1\n",
      "\n",
      "en_0066041\n",
      "\t TEXT: [['two', 'of', 'the', 'glass', 'be', 'break', 'when', 'I', 'open', 'the', 'package'], ['could', 'you', 'please', 'be', 'careful', 'for', 'package', 'glass', 'item']]\n",
      "\t STARS: 1\n",
      "\n",
      "en_0220290\n",
      "\t TEXT: [['unless', 'you', 'have', 'this', 'jam', '-', 'pack', 'full', 'of', 'item', 'the', 'unit', 'collapse', 'on', 'itself'], ['I', 'never', 'hold', 'it', 'be', 'shape', 'therefore', 'make', 'it', 'hard', 'to', 'reach', 'my', 'item', 'when', 'I', 'need', 'they'], ['the', 'silver', 'metal', 'piece', 'on', 'the', 'handle', 'fall', 'off', 'soon', 'after', 'it', 'arrive'], ['I', 'must', 'have', 'miss', 'the', '\"', 'return', 'by', '\"', 'date', 'as', 'I', 'now', 'be', 'stick', 'with', 'it']]\n",
      "\t STARS: 1\n",
      "\n",
      "en_0541277\n",
      "\t TEXT: [['do', 'n’t', 'even', 'work'], ['do', 'nothing', 'for', 'I', ':(']]\n",
      "\t STARS: 1\n",
      "\n"
     ]
    }
   ],
   "source": [
    "for i in range(10):\n",
    "    trainSet[i].printAll()\n",
    "    testSet[i].printAll()"
   ]
  },
  {
   "cell_type": "markdown",
   "metadata": {},
   "source": [
    "### Vectorizing"
   ]
  },
  {
   "cell_type": "code",
   "execution_count": 8,
   "metadata": {},
   "outputs": [],
   "source": [
    "# smush all the sentences together\n",
    "def makeListText(dataSet):\n",
    "    resList = []\n",
    "    for entry in dataSet:\n",
    "        tmp = \"\"\n",
    "        for sentence in entry.text:\n",
    "            for word in sentence:\n",
    "                tmp += word\n",
    "                tmp += \" \"\n",
    "        resList.append(tmp)\n",
    "    return resList\n",
    "\n",
    "# deal with target (the stars) as well\n",
    "def makeListStars(dataSet):\n",
    "    resList = []\n",
    "    for entry in dataSet:\n",
    "        resList.append(entry.stars)\n",
    "    return resList\n",
    "\n",
    "\n",
    "\n",
    "# data\n",
    "listTrainText = makeListText(trainSet)\n",
    "listTestText = makeListText(testSet)\n",
    "\n",
    "# target\n",
    "listTrainStars = makeListStars(trainSet)\n",
    "listTestStars = makeListStars(testSet)"
   ]
  },
  {
   "cell_type": "markdown",
   "metadata": {},
   "source": [
    "#### CountVectorizer"
   ]
  },
  {
   "cell_type": "code",
   "execution_count": 9,
   "metadata": {},
   "outputs": [],
   "source": [
    "# could do CountVectorizer\n",
    "cv = CountVectorizer(stop_words = 'english')\n",
    "\n",
    "trainCVMatr = cv.fit_transform(listTrainText)\n",
    "testCVMatr = cv.transform(listTrainText)\n",
    "\n",
    "#print(trainCVMatr)\n",
    "#print(testCVMatr)"
   ]
  },
  {
   "cell_type": "markdown",
   "metadata": {},
   "source": [
    "#### TdidfVectorizer"
   ]
  },
  {
   "cell_type": "code",
   "execution_count": 12,
   "metadata": {},
   "outputs": [],
   "source": [
    "# could do TfidfVectorizer\n",
    "tv = TfidfVectorizer()\n",
    "\n",
    "trainTVMatr = cv.fit_transform(listTrainText)\n",
    "testTVMatr = cv.transform(listTrainText)\n",
    "\n",
    "#print(trainTVMatr)\n",
    "#print(testTVMatr)"
   ]
  }
 ],
 "metadata": {
  "kernelspec": {
   "display_name": "Python 3",
   "language": "python",
   "name": "python3"
  },
  "language_info": {
   "codemirror_mode": {
    "name": "ipython",
    "version": 3
   },
   "file_extension": ".py",
   "mimetype": "text/x-python",
   "name": "python",
   "nbconvert_exporter": "python",
   "pygments_lexer": "ipython3",
   "version": "3.7.3"
  }
 },
 "nbformat": 4,
 "nbformat_minor": 2
}
